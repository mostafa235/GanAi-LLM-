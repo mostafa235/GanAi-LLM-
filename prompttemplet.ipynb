{
  "nbformat": 4,
  "nbformat_minor": 0,
  "metadata": {
    "colab": {
      "provenance": []
    },
    "kernelspec": {
      "name": "python3",
      "display_name": "Python 3"
    },
    "language_info": {
      "name": "python"
    }
  },
  "cells": [
    {
      "cell_type": "code",
      "execution_count": 1,
      "metadata": {
        "id": "sO5j-e-zb9b1"
      },
      "outputs": [],
      "source": [
        "#prompottemplet"
      ]
    },
    {
      "cell_type": "code",
      "source": [
        "import langchain\n",
        "from langchain_openai import OpenAI\n",
        "from langchain.prompts import PromptTemplate"
      ],
      "metadata": {
        "id": "R56ZuJ77cLge"
      },
      "execution_count": 3,
      "outputs": []
    },
    {
      "cell_type": "code",
      "source": [
        "prompts_name=PromptTemplate(\n",
        "    input_variables=[\"cint\"],\n",
        "    template=\"can you tell me the capital of {country}?\"\n",
        "\n",
        ")"
      ],
      "metadata": {
        "id": "ohhcATqFcpgK"
      },
      "execution_count": 9,
      "outputs": []
    },
    {
      "cell_type": "code",
      "source": [
        "prompt1=prompts_name.format(country=\"india\")"
      ],
      "metadata": {
        "id": "n2RMBWqac4q8"
      },
      "execution_count": 11,
      "outputs": []
    },
    {
      "cell_type": "code",
      "source": [
        "client=OpenAI(api_key=OPENAI_KEY)"
      ],
      "metadata": {
        "id": "BH7BAn1beieS"
      },
      "execution_count": null,
      "outputs": []
    },
    {
      "cell_type": "code",
      "source": [
        "client.predict(propmt1).strip()"
      ],
      "metadata": {
        "id": "Ve3k5Eb8dKfA"
      },
      "execution_count": 21,
      "outputs": []
    }
  ]
}