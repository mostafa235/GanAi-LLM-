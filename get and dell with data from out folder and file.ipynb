{
  "cells": [
    {
      "cell_type": "code",
      "execution_count": 31,
      "metadata": {
        "id": "7y8FCFrxleuf"
      },
      "outputs": [],
      "source": [
        "#document loadwe langchain"
      ]
    },
    {
      "cell_type": "code",
      "execution_count": null,
      "metadata": {
        "id": "D4DKUgAyllQj"
      },
      "outputs": [],
      "source": [
        "from langchain.document_loaders import PyPDFLoader"
      ]
    },
    {
      "cell_type": "code",
      "execution_count": null,
      "metadata": {
        "id": "aeEy8uCMlp8w"
      },
      "outputs": [],
      "source": [
        "loader = PyPDFLoader(r\"C:\\Users\\sunny\\Downloads\\MachineTranslationwithAttention.pdf\")"
      ]
    },
    {
      "cell_type": "code",
      "execution_count": null,
      "metadata": {
        "id": "bv5qa0vElqnu"
      },
      "outputs": [],
      "source": [
        "pages = loader.load_and_split()"
      ]
    },
    {
      "cell_type": "code",
      "execution_count": null,
      "metadata": {
        "id": "IeFRdUuFl3fo"
      },
      "outputs": [],
      "source": [
        "#document loadwe langchain\n",
        "\n",
        "from langchain.document_loaders import PyPDFLoader\n",
        "\n",
        "# تحميل ملف PDF\n",
        "loader = PyPDFLoader(\"example.pdf\")  # استبدل باسم ملفك\n",
        "documents = loader.load()\n",
        "\n",
        "# عرض أول صفحة\n",
        "print(documents[0].page_content)\n"
      ]
    },
    {
      "cell_type": "code",
      "execution_count": null,
      "metadata": {
        "id": "HtxUdqo3l67j"
      },
      "outputs": [],
      "source": [
        "#document loadwe langchain\n",
        "from langchain.document_loaders import TextLoader\n",
        "\n",
        "# تحميل ملف نصي\n",
        "loader = TextLoader(\"example.txt\")  # استبدل باسم ملفك\n",
        "documents = loader.load()\n",
        "\n",
        "# عرض المحتوى\n",
        "print(documents[0].page_content)\n"
      ]
    },
    {
      "cell_type": "code",
      "execution_count": null,
      "metadata": {
        "id": "DaWzXAK3muWG"
      },
      "outputs": [],
      "source": [
        "# get and dell data wit agent tool"
      ]
    },
    {
      "cell_type": "code",
      "execution_count": null,
      "metadata": {
        "id": "sYq_tu60mNFp"
      },
      "outputs": [],
      "source": [
        "# get data from pandas\n",
        "\n",
        "import pandas as pd\n",
        "from langchain.agents import create_pandas_dataframe_agent\n",
        "from langchain.llms import OpenAI\n",
        "\n",
        "# تحميل البيانات من ملف CSV\n",
        "df = pd.read_csv(\"sales_data.csv\")  # استبدل باسم ملفك\n",
        "\n",
        "# إنشاء وكيل LangChain للتعامل مع DataFrame\n",
        "llm = OpenAI(model_name=\"text-davinci-003\", temperature=0)\n",
        "agent = create_pandas_dataframe_agent(llm, df, verbose=True)\n",
        "\n",
        "# تنفيذ استفسارات طبيعية على البيانات\n",
        "query = \"ما هو متوسط المبيعات لكل منتج؟\"\n",
        "response = agent.run(query)\n",
        "\n",
        "print(response)"
      ]
    },
    {
      "cell_type": "code",
      "execution_count": null,
      "metadata": {
        "id": "cl5CBL9smUX1"
      },
      "outputs": [],
      "source": [
        "# get data from database\n",
        "\n",
        "from langchain.agents import initialize_agent, AgentType\n",
        "from langchain.tools import load_tools\n",
        "from langchain.utilities import SQLDatabase\n",
        "from langchain.llms import OpenAI\n",
        "\n",
        "# 1️⃣ Connect to the SQL Database\n",
        "db = SQLDatabase.from_uri(\"sqlite:///example.db\")  # Use your actual DB connection URI\n",
        "\n",
        "# 2️⃣ Load the SQL Tool\n",
        "tools = load_tools([\"sql_database\"], db=db)\n",
        "\n",
        "# 3️⃣ Initialize the Agent\n",
        "llm = OpenAI(model_name=\"text-davinci-003\", temperature=0)\n",
        "agent = initialize_agent(\n",
        "    tools=tools,  # Attach SQL tool\n",
        "    llm=llm,\n",
        "    agent=AgentType.ZERO_SHOT_REACT_DESCRIPTION,\n",
        "    verbose=True\n",
        ")\n",
        "\n",
        "# 4️⃣ Run SQL Query Using Natural Language\n",
        "query = \"Show me the names of all employees older than 30.\"\n",
        "response = agent.run(query)\n",
        "\n",
        "print(response)\n"
      ]
    },
    {
      "cell_type": "code",
      "execution_count": null,
      "metadata": {
        "id": "gQX6R1o_mmAE"
      },
      "outputs": [],
      "source": [
        "# do python code\n",
        "\n",
        "from langchain.tools import PythonREPLTool\n",
        "from langchain.agents import initialize_agent, AgentType\n",
        "from langchain.llms import OpenAI\n",
        "\n",
        "# إنشاء أداة تشغيل كود Python\n",
        "python_tool = PythonREPLTool()\n",
        "\n",
        "# إنشاء وكيل يستخدم الأداة\n",
        "llm = OpenAI(model_name=\"text-davinci-003\", temperature=0)\n",
        "agent = initialize_agent(\n",
        "    tools=[python_tool],\n",
        "    llm=llm,\n",
        "    agent=AgentType.ZERO_SHOT_REACT_DESCRIPTION,\n",
        "    verbose=True\n",
        ")\n",
        "\n",
        "# تجربة تنفيذ كود Python عبر الوكيل\n",
        "query = \"احسب مجموع الأرقام من 1 إلى 100\"\n",
        "response = agent.run(query)\n",
        "\n",
        "print(response)"
      ]
    }
  ],
  "metadata": {
    "colab": {
      "provenance": []
    },
    "kernelspec": {
      "display_name": "Python 3.10.11 64-bit (microsoft store)",
      "language": "python",
      "name": "python3"
    },
    "language_info": {
      "name": "python",
      "version": "3.10.11"
    },
    "vscode": {
      "interpreter": {
        "hash": "e1a611bfe618ddced957fae6e2b829e3db4b5e8138885cb3bfce781d42e2449a"
      }
    }
  },
  "nbformat": 4,
  "nbformat_minor": 0
}
