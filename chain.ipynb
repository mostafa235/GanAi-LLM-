{
  "cells": [
    {
      "cell_type": "code",
      "execution_count": 1,
      "metadata": {
        "id": "sO5j-e-zb9b1"
      },
      "outputs": [],
      "source": [
        "#chain 1"
      ]
    },
    {
      "cell_type": "code",
      "execution_count": 3,
      "metadata": {
        "id": "R56ZuJ77cLge"
      },
      "outputs": [],
      "source": [
        "from langchain.chains import LLMChain\n",
        "from langchain_openai import OpenAI\n",
        "from langchain.prompts import PromptTemplate"
      ]
    },
    {
      "cell_type": "code",
      "execution_count": 9,
      "metadata": {
        "id": "ohhcATqFcpgK"
      },
      "outputs": [],
      "source": [
        "prompt=PromptTemplate.from_template(\"what is a good name for a company that makes {product}\")"
      ]
    },
    {
      "cell_type": "code",
      "execution_count": 11,
      "metadata": {
        "id": "n2RMBWqac4q8"
      },
      "outputs": [],
      "source": [
        "chain=LLMChain(llm=client,prompt=prompt)"
      ]
    },
    {
      "cell_type": "code",
      "execution_count": null,
      "metadata": {
        "id": "BH7BAn1beieS"
      },
      "outputs": [],
      "source": [
        "chain.run(\"Wine\").strip()"
      ]
    },
    {
      "cell_type": "code",
      "execution_count": 28,
      "metadata": {
        "id": "L_H0jW1Zklet"
      },
      "outputs": [],
      "source": [
        "#chain 2 SimpleSequentialChain"
      ]
    },
    {
      "cell_type": "code",
      "execution_count": null,
      "metadata": {
        "id": "mR6z5WrVk8NV"
      },
      "outputs": [],
      "source": [
        "from langchain.chains import SimpleSequentialChain"
      ]
    },
    {
      "cell_type": "code",
      "execution_count": 29,
      "metadata": {
        "id": "8cgdRaH5ksou"
      },
      "outputs": [],
      "source": [
        "prompt_template_name=PromptTemplate(\n",
        "input_variables=[\"startup_name\"],\n",
        "    template=\"I want to start a startup for {startup-name} , suggest me a good name for this\"\n",
        ")"
      ]
    },
    {
      "cell_type": "code",
      "execution_count": null,
      "metadata": {
        "id": "6U6QqCCMkyPz"
      },
      "outputs": [],
      "source": [
        "name_chain=LLMChain(llm=client,prompt=prompt_template_name)"
      ]
    },
    {
      "cell_type": "code",
      "execution_count": 30,
      "metadata": {
        "id": "bsOkwzTuk2AL"
      },
      "outputs": [],
      "source": [
        "prompt_template_items=PromptTemplate(\n",
        "input_variables=[\"name\"],\n",
        "    template=\"suggest some strategies for {name}\"\n",
        ")"
      ]
    },
    {
      "cell_type": "code",
      "execution_count": null,
      "metadata": {
        "id": "f9MBzth5k2uH"
      },
      "outputs": [],
      "source": [
        "strategies_chain=LLMChain(llm=client,prompt=prompt_template_items)"
      ]
    },
    {
      "cell_type": "code",
      "execution_count": null,
      "metadata": {
        "id": "CL2oO0mqk5z0"
      },
      "outputs": [],
      "source": [
        "chain=SimpleSequentialChain(chains=[name_chain,strategies_chain])"
      ]
    },
    {
      "cell_type": "code",
      "execution_count": null,
      "metadata": {
        "id": "TicgiqKclCc9"
      },
      "outputs": [],
      "source": [
        "print(chain.run(\"artifical intelligence\"))"
      ]
    },
    {
      "cell_type": "code",
      "execution_count": null,
      "metadata": {
        "id": "B2g0uD2flD2F"
      },
      "outputs": [],
      "source": [
        "# chain SequentialChain"
      ]
    },
    {
      "cell_type": "code",
      "execution_count": null,
      "metadata": {
        "id": "fyPGjXy0lKMJ"
      },
      "outputs": [],
      "source": [
        "prompt_template_name=PromptTemplate(\n",
        "    input_variables=[\"cuisine\"],\n",
        "    template=\"i want to open a restaurant for {cuisine}, suggest a fency name for it\"\n",
        ")\n",
        "\n",
        "name_chain=LLMChain(llm=client, prompt=prompt_template_name,output_key=\"restaurant_name\")"
      ]
    },
    {
      "cell_type": "code",
      "execution_count": null,
      "metadata": {
        "id": "wgZs7cKzlOgw"
      },
      "outputs": [],
      "source": [
        "prompt_templates_items=PromptTemplate(\n",
        "    input_variables=[\"restaurant_name\"],\n",
        "    template=\"suggest some menu items for {restaurant_name}\"\n",
        "\n",
        ")\n",
        "\n",
        "food_items_chain=LLMChain(llm=client, prompt=prompt_templates_items, output_key=\"menu_items\")\n"
      ]
    },
    {
      "cell_type": "code",
      "execution_count": null,
      "metadata": {
        "id": "vh0LXUEClRuf"
      },
      "outputs": [],
      "source": [
        "chain=SequentialChain(chains=[name_chain, food_items_chain],\n",
        "    input_variables=[\"cuisine\"],\n",
        "    output_variables=[\"restaurant_name\",\"menu_items\"]\n",
        "\n",
        ")"
      ]
    },
    {
      "cell_type": "code",
      "execution_count": null,
      "metadata": {
        "id": "3Ya8wo_RlUIE"
      },
      "outputs": [],
      "source": [
        "chain({\"cuisine\":\"indian\"})"
      ]
    }
  ],
  "metadata": {
    "colab": {
      "provenance": []
    },
    "kernelspec": {
      "display_name": "Python 3.10.11 64-bit (microsoft store)",
      "language": "python",
      "name": "python3"
    },
    "language_info": {
      "name": "python",
      "version": "3.10.11"
    },
    "vscode": {
      "interpreter": {
        "hash": "e1a611bfe618ddced957fae6e2b829e3db4b5e8138885cb3bfce781d42e2449a"
      }
    }
  },
  "nbformat": 4,
  "nbformat_minor": 0
}
